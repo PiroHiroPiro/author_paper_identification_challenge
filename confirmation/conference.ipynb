{
 "cells": [
  {
   "cell_type": "markdown",
   "metadata": {},
   "source": [
    "## import modules"
   ]
  },
  {
   "cell_type": "code",
   "execution_count": 1,
   "metadata": {},
   "outputs": [],
   "source": [
    "import pandas as pd"
   ]
  },
  {
   "cell_type": "markdown",
   "metadata": {},
   "source": [
    "### Conference\n",
    "\n",
    "Since each paper is either a conference, additional metadata about conferences is provided where available (Conference.csv).\n",
    "\n",
    "| Name | Data Type | Comments |\n",
    "| :-: | :-: | :-: |\n",
    "| Id | Int | Conference Id |\n",
    "| ShortName | Nvarchar | Short name |\n",
    "| Fullname | Nvarchar | Full name |\n",
    "| Homepage | Nvarchar | Homepage URL of conf |"
   ]
  },
  {
   "cell_type": "code",
   "execution_count": 2,
   "metadata": {},
   "outputs": [],
   "source": [
    "conference_df = pd.read_csv('../data/dataRev2/Conference.csv')"
   ]
  },
  {
   "cell_type": "markdown",
   "metadata": {},
   "source": [
    "#### display data"
   ]
  },
  {
   "cell_type": "code",
   "execution_count": 3,
   "metadata": {},
   "outputs": [
    {
     "name": "stdout",
     "output_type": "stream",
     "text": [
      "4545\n"
     ]
    },
    {
     "data": {
      "text/html": [
       "<div>\n",
       "<style scoped>\n",
       "    .dataframe tbody tr th:only-of-type {\n",
       "        vertical-align: middle;\n",
       "    }\n",
       "\n",
       "    .dataframe tbody tr th {\n",
       "        vertical-align: top;\n",
       "    }\n",
       "\n",
       "    .dataframe thead th {\n",
       "        text-align: right;\n",
       "    }\n",
       "</style>\n",
       "<table border=\"1\" class=\"dataframe\">\n",
       "  <thead>\n",
       "    <tr style=\"text-align: right;\">\n",
       "      <th></th>\n",
       "      <th>Id</th>\n",
       "      <th>ShortName</th>\n",
       "      <th>FullName</th>\n",
       "      <th>HomePage</th>\n",
       "    </tr>\n",
       "  </thead>\n",
       "  <tbody>\n",
       "    <tr>\n",
       "      <th>0</th>\n",
       "      <td>1</td>\n",
       "      <td>IADIS</td>\n",
       "      <td>International Association for Development of t...</td>\n",
       "      <td>NaN</td>\n",
       "    </tr>\n",
       "    <tr>\n",
       "      <th>1</th>\n",
       "      <td>2</td>\n",
       "      <td>IADT</td>\n",
       "      <td>Issues and Applications of Database Technology</td>\n",
       "      <td>http://www.informatik.uni-trier.de/~ley/db/con...</td>\n",
       "    </tr>\n",
       "    <tr>\n",
       "      <th>2</th>\n",
       "      <td>4</td>\n",
       "      <td>NaN</td>\n",
       "      <td>IBM Germany Scientific Symposium Series</td>\n",
       "      <td>http://www.informatik.uni-trier.de/~ley/db/con...</td>\n",
       "    </tr>\n",
       "    <tr>\n",
       "      <th>3</th>\n",
       "      <td>5</td>\n",
       "      <td>ICOMP</td>\n",
       "      <td>International Conference on Internet Computing</td>\n",
       "      <td>http://www.informatik.uni-trier.de/~ley/db/con...</td>\n",
       "    </tr>\n",
       "    <tr>\n",
       "      <th>4</th>\n",
       "      <td>6</td>\n",
       "      <td>ICAC</td>\n",
       "      <td>International Conference on Autonomic Computing</td>\n",
       "      <td>http://www.autonomic-conference.org/</td>\n",
       "    </tr>\n",
       "  </tbody>\n",
       "</table>\n",
       "</div>"
      ],
      "text/plain": [
       "   Id ShortName                                           FullName  \\\n",
       "0   1     IADIS  International Association for Development of t...   \n",
       "1   2      IADT     Issues and Applications of Database Technology   \n",
       "2   4       NaN            IBM Germany Scientific Symposium Series   \n",
       "3   5     ICOMP     International Conference on Internet Computing   \n",
       "4   6      ICAC    International Conference on Autonomic Computing   \n",
       "\n",
       "                                            HomePage  \n",
       "0                                                NaN  \n",
       "1  http://www.informatik.uni-trier.de/~ley/db/con...  \n",
       "2  http://www.informatik.uni-trier.de/~ley/db/con...  \n",
       "3  http://www.informatik.uni-trier.de/~ley/db/con...  \n",
       "4               http://www.autonomic-conference.org/  "
      ]
     },
     "execution_count": 3,
     "metadata": {},
     "output_type": "execute_result"
    }
   ],
   "source": [
    "print(len(conference_df))\n",
    "conference_df.head()"
   ]
  },
  {
   "cell_type": "markdown",
   "metadata": {},
   "source": [
    "#### number of NaN in data"
   ]
  },
  {
   "cell_type": "code",
   "execution_count": 4,
   "metadata": {},
   "outputs": [
    {
     "data": {
      "text/html": [
       "<div>\n",
       "<style scoped>\n",
       "    .dataframe tbody tr th:only-of-type {\n",
       "        vertical-align: middle;\n",
       "    }\n",
       "\n",
       "    .dataframe tbody tr th {\n",
       "        vertical-align: top;\n",
       "    }\n",
       "\n",
       "    .dataframe thead th {\n",
       "        text-align: right;\n",
       "    }\n",
       "</style>\n",
       "<table border=\"1\" class=\"dataframe\">\n",
       "  <thead>\n",
       "    <tr style=\"text-align: right;\">\n",
       "      <th></th>\n",
       "      <th>MissingCount</th>\n",
       "      <th>dtype</th>\n",
       "    </tr>\n",
       "  </thead>\n",
       "  <tbody>\n",
       "    <tr>\n",
       "      <th>Id</th>\n",
       "      <td>0</td>\n",
       "      <td>int64</td>\n",
       "    </tr>\n",
       "    <tr>\n",
       "      <th>ShortName</th>\n",
       "      <td>613</td>\n",
       "      <td>object</td>\n",
       "    </tr>\n",
       "    <tr>\n",
       "      <th>FullName</th>\n",
       "      <td>16</td>\n",
       "      <td>object</td>\n",
       "    </tr>\n",
       "    <tr>\n",
       "      <th>HomePage</th>\n",
       "      <td>622</td>\n",
       "      <td>object</td>\n",
       "    </tr>\n",
       "  </tbody>\n",
       "</table>\n",
       "</div>"
      ],
      "text/plain": [
       "           MissingCount   dtype\n",
       "Id                    0   int64\n",
       "ShortName           613  object\n",
       "FullName             16  object\n",
       "HomePage            622  object"
      ]
     },
     "execution_count": 4,
     "metadata": {},
     "output_type": "execute_result"
    }
   ],
   "source": [
    "((conference_df.isnull().sum(axis=0)).to_frame('MissingCount')).join(conference_df.dtypes.to_frame('dtype'))"
   ]
  },
  {
   "cell_type": "code",
   "execution_count": null,
   "metadata": {},
   "outputs": [],
   "source": []
  }
 ],
 "metadata": {
  "kernelspec": {
   "display_name": "Python 3",
   "language": "python",
   "name": "python3"
  },
  "language_info": {
   "codemirror_mode": {
    "name": "ipython",
    "version": 3
   },
   "file_extension": ".py",
   "mimetype": "text/x-python",
   "name": "python",
   "nbconvert_exporter": "python",
   "pygments_lexer": "ipython3",
   "version": "3.6.7"
  }
 },
 "nbformat": 4,
 "nbformat_minor": 2
}
