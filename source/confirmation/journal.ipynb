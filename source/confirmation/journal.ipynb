{
 "cells": [
  {
   "cell_type": "markdown",
   "metadata": {},
   "source": [
    "## import modules"
   ]
  },
  {
   "cell_type": "code",
   "execution_count": 1,
   "metadata": {},
   "outputs": [],
   "source": [
    "import pandas as pd"
   ]
  },
  {
   "cell_type": "markdown",
   "metadata": {},
   "source": [
    "### Journal\n",
    "\n",
    "Since each paper is either a journal, additional metadata about journals is provided where available (Journal.csv).\n",
    "\n",
    "| Name | Data Type | Comments |\n",
    "| :-: | :-: | :-: |\n",
    "| Id | Int | Journal Id |\n",
    "| ShortName | Nvarchar | Short name |\n",
    "| Fullname | Nvarchar | Full name |\n",
    "| Homepage | Nvarchar | Homepage URL of journal |"
   ]
  },
  {
   "cell_type": "code",
   "execution_count": 2,
   "metadata": {},
   "outputs": [],
   "source": [
    "journal_df = pd.read_csv('../data/dataRev2/Journal.csv')"
   ]
  },
  {
   "cell_type": "markdown",
   "metadata": {},
   "source": [
    "#### display data"
   ]
  },
  {
   "cell_type": "code",
   "execution_count": 3,
   "metadata": {},
   "outputs": [
    {
     "name": "stdout",
     "output_type": "stream",
     "text": [
      "15151\n"
     ]
    },
    {
     "data": {
      "text/html": [
       "<div>\n",
       "<style scoped>\n",
       "    .dataframe tbody tr th:only-of-type {\n",
       "        vertical-align: middle;\n",
       "    }\n",
       "\n",
       "    .dataframe tbody tr th {\n",
       "        vertical-align: top;\n",
       "    }\n",
       "\n",
       "    .dataframe thead th {\n",
       "        text-align: right;\n",
       "    }\n",
       "</style>\n",
       "<table border=\"1\" class=\"dataframe\">\n",
       "  <thead>\n",
       "    <tr style=\"text-align: right;\">\n",
       "      <th></th>\n",
       "      <th>Id</th>\n",
       "      <th>ShortName</th>\n",
       "      <th>FullName</th>\n",
       "      <th>HomePage</th>\n",
       "    </tr>\n",
       "  </thead>\n",
       "  <tbody>\n",
       "    <tr>\n",
       "      <th>0</th>\n",
       "      <td>1</td>\n",
       "      <td>ICOM</td>\n",
       "      <td>Zeitschrift Für Interaktive Und Kooperative Me...</td>\n",
       "      <td>http://www.i-com-media.de</td>\n",
       "    </tr>\n",
       "    <tr>\n",
       "      <th>1</th>\n",
       "      <td>2</td>\n",
       "      <td>AEPIA</td>\n",
       "      <td>Inteligencia Artificial,revista Iberoamericana...</td>\n",
       "      <td>http://aepia.dsic.upv.es/revista/</td>\n",
       "    </tr>\n",
       "    <tr>\n",
       "      <th>2</th>\n",
       "      <td>3</td>\n",
       "      <td>IBMRD</td>\n",
       "      <td>Ibm Journal of Research and Development</td>\n",
       "      <td>http://www-tr.watson.ibm.com/journal/rdindex.html</td>\n",
       "    </tr>\n",
       "    <tr>\n",
       "      <th>3</th>\n",
       "      <td>4</td>\n",
       "      <td>IBMSJ</td>\n",
       "      <td>Ibm Systems Journal</td>\n",
       "      <td>http://researchweb.watson.ibm.com/journal/</td>\n",
       "    </tr>\n",
       "    <tr>\n",
       "      <th>4</th>\n",
       "      <td>5</td>\n",
       "      <td>NaN</td>\n",
       "      <td>Iet Software/iee Proceedings - Software</td>\n",
       "      <td>http://www.ietdl.org/IET-SEN</td>\n",
       "    </tr>\n",
       "  </tbody>\n",
       "</table>\n",
       "</div>"
      ],
      "text/plain": [
       "   Id ShortName                                           FullName  \\\n",
       "0   1      ICOM  Zeitschrift Für Interaktive Und Kooperative Me...   \n",
       "1   2     AEPIA  Inteligencia Artificial,revista Iberoamericana...   \n",
       "2   3     IBMRD            Ibm Journal of Research and Development   \n",
       "3   4     IBMSJ                                Ibm Systems Journal   \n",
       "4   5       NaN            Iet Software/iee Proceedings - Software   \n",
       "\n",
       "                                            HomePage  \n",
       "0                          http://www.i-com-media.de  \n",
       "1                  http://aepia.dsic.upv.es/revista/  \n",
       "2  http://www-tr.watson.ibm.com/journal/rdindex.html  \n",
       "3         http://researchweb.watson.ibm.com/journal/  \n",
       "4                       http://www.ietdl.org/IET-SEN  "
      ]
     },
     "execution_count": 3,
     "metadata": {},
     "output_type": "execute_result"
    }
   ],
   "source": [
    "print(len(journal_df))\n",
    "journal_df.head()"
   ]
  },
  {
   "cell_type": "markdown",
   "metadata": {},
   "source": [
    "#### number of NaN in data"
   ]
  },
  {
   "cell_type": "code",
   "execution_count": 4,
   "metadata": {},
   "outputs": [
    {
     "data": {
      "text/html": [
       "<div>\n",
       "<style scoped>\n",
       "    .dataframe tbody tr th:only-of-type {\n",
       "        vertical-align: middle;\n",
       "    }\n",
       "\n",
       "    .dataframe tbody tr th {\n",
       "        vertical-align: top;\n",
       "    }\n",
       "\n",
       "    .dataframe thead th {\n",
       "        text-align: right;\n",
       "    }\n",
       "</style>\n",
       "<table border=\"1\" class=\"dataframe\">\n",
       "  <thead>\n",
       "    <tr style=\"text-align: right;\">\n",
       "      <th></th>\n",
       "      <th>MissingCount</th>\n",
       "      <th>dtype</th>\n",
       "    </tr>\n",
       "  </thead>\n",
       "  <tbody>\n",
       "    <tr>\n",
       "      <th>Id</th>\n",
       "      <td>0</td>\n",
       "      <td>int64</td>\n",
       "    </tr>\n",
       "    <tr>\n",
       "      <th>ShortName</th>\n",
       "      <td>6854</td>\n",
       "      <td>object</td>\n",
       "    </tr>\n",
       "    <tr>\n",
       "      <th>FullName</th>\n",
       "      <td>6</td>\n",
       "      <td>object</td>\n",
       "    </tr>\n",
       "    <tr>\n",
       "      <th>HomePage</th>\n",
       "      <td>2118</td>\n",
       "      <td>object</td>\n",
       "    </tr>\n",
       "  </tbody>\n",
       "</table>\n",
       "</div>"
      ],
      "text/plain": [
       "           MissingCount   dtype\n",
       "Id                    0   int64\n",
       "ShortName          6854  object\n",
       "FullName              6  object\n",
       "HomePage           2118  object"
      ]
     },
     "execution_count": 4,
     "metadata": {},
     "output_type": "execute_result"
    }
   ],
   "source": [
    "((journal_df.isnull().sum(axis=0)).to_frame('MissingCount')).join(journal_df.dtypes.to_frame('dtype'))"
   ]
  },
  {
   "cell_type": "code",
   "execution_count": null,
   "metadata": {},
   "outputs": [],
   "source": []
  }
 ],
 "metadata": {
  "kernelspec": {
   "display_name": "Python 3",
   "language": "python",
   "name": "python3"
  },
  "language_info": {
   "codemirror_mode": {
    "name": "ipython",
    "version": 3
   },
   "file_extension": ".py",
   "mimetype": "text/x-python",
   "name": "python",
   "nbconvert_exporter": "python",
   "pygments_lexer": "ipython3",
   "version": "3.6.7"
  }
 },
 "nbformat": 4,
 "nbformat_minor": 2
}
